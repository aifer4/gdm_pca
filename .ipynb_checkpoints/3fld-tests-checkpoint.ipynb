{
 "cells": [
  {
   "cell_type": "code",
   "execution_count": 9,
   "metadata": {},
   "outputs": [],
   "source": [
    "import modes\n",
    "import spectra\n",
    "from util import trapz, backtrapz, deriv\n",
    "\n",
    "import numpy as np\n",
    "from matplotlib import pyplot as plt"
   ]
  },
  {
   "cell_type": "code",
   "execution_count": 10,
   "metadata": {},
   "outputs": [
    {
     "name": "stdout",
     "output_type": "stream",
     "text": [
      "Bessel functions loaded from file.\n"
     ]
    }
   ],
   "source": [
    "# numerical parameters\n",
    "NT = 10000\n",
    "NX = 10000\n",
    "NK = 2000\n",
    "L_MAX = 2500\n",
    "xmin = 0.01\n",
    "xmax = 3000\n",
    "a0 = 1.e-6\n",
    "a_rec = 1/1100\n",
    "\n",
    "# arrays\n",
    "A = np.linspace(a0, a_rec, NT)\n",
    "K = np.linspace(.1, 3000, NK)\n",
    "L = np.array([i for i in range(2, 50, 1)]+[i for i in range(50, 200, 5)] +\n",
    "                  [i for i in range(200, L_MAX, 20)])\n",
    "NL = len(L)\n",
    "X = np.linspace(xmin, xmax, NX)\n",
    "JLX, DJLX = spectra.get_bessels(L, X)"
   ]
  },
  {
   "cell_type": "code",
   "execution_count": 11,
   "metadata": {},
   "outputs": [],
   "source": [
    "# physical parameters\n",
    "h = 0.5\n",
    "OmegaM0 = 1.0\n",
    "OmegaB0 = 0.05\n",
    "OmegaR0 = 4.2e-5/h**2\n",
    "OmegaN0 = OmegaR0*(1-1/1.68)\n",
    "OmegaG0 = OmegaR0 - OmegaN0\n",
    "OmegaC0 = OmegaM0 - OmegaB0\n",
    "wC = np.zeros(NT)\n",
    "wN = np.ones(NT)*1/3\n",
    "cs2C = np.zeros((NT, NK))\n",
    "cs2N = np.ones((NT, NK))*1/3"
   ]
  },
  {
   "cell_type": "code",
   "execution_count": null,
   "metadata": {},
   "outputs": [],
   "source": [
    "# Solve the ODE and get the source terms.\n",
    "Y, TAU = modes.solve_3fld(A, K, wC, cs2C, wN, cs2N, OmegaB0, OmegaC0,\n",
    "           OmegaG0, OmegaN0)\n",
    "DOP = -Y[-1,2,:]\n",
    "SW = -Y[-1,0,:] - Y[-1,1,:]/4\n",
    "tau_rec = TAU[-1]\n",
    "\n",
    "# Calculate the damping factor\n",
    "OmegaM0 = OmegaB0 + OmegaC0\n",
    "tau_r = .5*(OmegaM0/a_rec)**.5\n",
    "tau_s = 0.6 * OmegaM0**.25 * OmegaB0**-.5 * a_rec**.75 * h**-.5 / tau_r\n",
    "#tau_rec = tau_r\n",
    "T = np.exp(-2*(K*tau_s)**2 - (.03*K*tau_rec)**2)\n",
    "T = np.exp(-K**2 * tau_s**2)\n",
    "\n",
    "# plot the seljak graph\n",
    "fig, ax = plt.subplots(figsize=(20, 10))\n",
    "img = plt.imread(\"img/seljak_1.png\")\n",
    "ax.imshow(img, extent=[-1, 2.2, -1.5, 1.5],aspect='auto')\n",
    "plt.xlim(-1,2.2)\n",
    "plt.ylim(-1.5,1.5)\n",
    "\n",
    "#plot the damped source terms\n",
    "plt.plot(np.log10(K/tau_r),DOP*T, )\n",
    "plt.plot(np.log10(K/tau_r),SW*T)"
   ]
  },
  {
   "cell_type": "code",
   "execution_count": null,
   "metadata": {},
   "outputs": [],
   "source": [
    "%timeit Cl = spectra.get_Cl_3fld(L, L, X, JLX, DJLX, A, K, wC, cs2C, wN, cs2N, OmegaB0, OmegaC0, OmegaG0, OmegaN0, h)"
   ]
  },
  {
   "cell_type": "code",
   "execution_count": null,
   "metadata": {},
   "outputs": [],
   "source": [
    "\n",
    "h = .6\n",
    "\n",
    "OmegaM0 = .3089\n",
    "OmegaB0 = 0.022/h**2\n",
    "OmegaR0 = 4.2e-5/h**2\n",
    "OmegaN0 = OmegaR0*.405\n",
    "OmegaG0 = OmegaR0 - OmegaN0\n",
    "OmegaC0 = OmegaM0 - OmegaB0\n",
    "\n",
    "Cl = spectra.get_Cl_3fld(L, L, X, JLX, DJLX, A, K, wC, cs2C, wN, cs2N,\n",
    "                                  OmegaB0, OmegaC0, OmegaG0, OmegaN0, h)\n",
    "\n",
    "fig, ax = plt.subplots(figsize=(10, 10))\n",
    "img = plt.imread(\"img/Cl_planck_30p.png\")\n",
    "ax.imshow(img, extent=[30, 2500, 0, 1],aspect='auto')\n",
    "plt.xlim(0, 2500)\n",
    "plt.ylim(0,1.5)\n",
    "\n",
    "plt.plot(L,Cl/max(Cl))"
   ]
  },
  {
   "cell_type": "code",
   "execution_count": null,
   "metadata": {},
   "outputs": [],
   "source": []
  },
  {
   "cell_type": "code",
   "execution_count": null,
   "metadata": {},
   "outputs": [],
   "source": []
  }
 ],
 "metadata": {
  "kernelspec": {
   "display_name": "Python 3",
   "language": "python",
   "name": "python3"
  },
  "language_info": {
   "codemirror_mode": {
    "name": "ipython",
    "version": 3
   },
   "file_extension": ".py",
   "mimetype": "text/x-python",
   "name": "python",
   "nbconvert_exporter": "python",
   "pygments_lexer": "ipython3",
   "version": "3.7.4"
  }
 },
 "nbformat": 4,
 "nbformat_minor": 2
}
