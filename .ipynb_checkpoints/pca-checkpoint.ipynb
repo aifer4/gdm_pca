{
 "cells": [
  {
   "cell_type": "markdown",
   "metadata": {},
   "source": [
    "# PCA\n",
    "This notebook can be used to do PCA on the following things:\n",
    "- Sound speed and equation of state of the dark sector in the 2-fluid model\n",
    "- Sound speed and equation of state of dark matter and neutrinos in the 3-fluid model\n",
    "- Standard cosmological parameters in the 3-fluid model\n"
   ]
  },
  {
   "cell_type": "code",
   "execution_count": 2,
   "metadata": {},
   "outputs": [],
   "source": [
    "# third party imports\n",
    "import numpy as np\n",
    "from numpy import exp, log, log10, sqrt, zeros, ones, linspace\n",
    "import matplotlib.pyplot as plt\n",
    "import numba\n",
    "import pickle\n",
    "\n",
    "# other project files\n",
    "import modes\n",
    "import spectra"
   ]
  },
  {
   "cell_type": "code",
   "execution_count": 3,
   "metadata": {},
   "outputs": [
    {
     "name": "stdout",
     "output_type": "stream",
     "text": [
      "Bessel functions not found. Computing bessel functions...\n",
      "\n",
      "Bessel functions stored.\n"
     ]
    }
   ],
   "source": [
    "# numerical parameters\n",
    "NT = 2**13\n",
    "NK = 400\n",
    "NX = 10000\n",
    "L_MAX = 2500\n",
    "xmin = 0.01\n",
    "xmax = 3000\n",
    "a0 = 1.e-6\n",
    "a0_pca = 5.e-5\n",
    "a_rec = 1/1100\n",
    "\n",
    "# arrays\n",
    "A = np.linspace(a0, a_rec, 2*NT)\n",
    "K = np.linspace(.1, 3000, NK)\n",
    "L = np.array([i for i in range(2, 50, 1)]+[i for i in range(50, 200, 5)] +\n",
    "                  [i for i in range(200, L_MAX+1, 20)])\n",
    "L_eval = np.arange(2, L_MAX+1)\n",
    "NL = len(L)\n",
    "X = np.linspace(xmin, xmax, NX)\n",
    "JLX, DJLX = spectra.get_bessels(L, X)"
   ]
  },
  {
   "cell_type": "markdown",
   "metadata": {},
   "source": [
    "# 3-fluid  model\n",
    "The function params_PCA below gets the fisher matrix for the scalar-valued parameters in the 3-fluid model. Equation of state and sound speed for CDM and neutrinos are treated as scalar parameters (they aren't allowed to depend on time or wavenumber)."
   ]
  },
  {
   "cell_type": "code",
   "execution_count": 4,
   "metadata": {},
   "outputs": [],
   "source": [
    "# physical parameters\n",
    "h = 0.6774\n",
    "As = np.exp(3.064)/1.e10 # scalar perturbation amplitude\n",
    "TCMB0 = 2.72548 * 1.e6 # CMB temp (microK)\n",
    "OmegaM0 = 0.3089\n",
    "OmegaB0 = 0.0486\n",
    "OmegaR0 = 4.2e-5/h**2\n",
    "OmegaN0 = OmegaR0*(1-1/1.68)\n",
    "OmegaG0 = OmegaR0 - OmegaN0\n",
    "OmegaC0 = OmegaM0 - OmegaB0\n",
    "wC = np.zeros(2*NT)\n",
    "wN = np.ones(2*NT)*1/3\n",
    "cs2C = np.zeros((2*NT, NK))\n",
    "cs2N = np.ones((2*NT, NK))*1/3\n",
    "params_F = [wC, cs2C, wN, cs2N, OmegaB0, OmegaC0, OmegaG0, OmegaN0, As, TCMB0, h]\n",
    "\n",
    "Cl = spectra.get_Cl_3fld(L, L_eval, X, JLX, DJLX, A, K, *params_F)\n",
    "err = spectra.get_Cl_err(L_eval,Cl)\n",
    "Sigma = np.diag(err**2)\n",
    "\n",
    "def params_PCA(t):\n",
    "    \"\"\"Fisher matrix for density parameters, equation of state, sound speed.\"\"\"\n",
    "\n",
    "    NC = len(params_F) #number of parameters\n",
    "    ss = 0.1**t #(derivative step size)\n",
    "    B = np.eye(NC)\n",
    "    J = np.zeros((len(L_eval), NC))\n",
    "\n",
    "    print('computing derivatives (t='+str(t)+')')\n",
    "    # take the central-difference derivatives with respect to each parameter\n",
    "    for n in range(NC):\n",
    "        params_fwd = params_F + ss*B[n]\n",
    "        params_bwd = params_F - ss*B[n]\n",
    "        Cl_fwd  = spectra.get_Cl_3fld(A, K, *params_fwd)\n",
    "        Cl_bwd = spectra.get_Cl_3fld(A, K, *params_bwd)\n",
    "        J[:, n] = (Cl_fwd - Cl_bwd)/(2.*ss)\n",
    "            \n",
    "    # save the derivatives\n",
    "    pickle.dump(J, open(\"output/params/J_t-\"+str(t)+\".p\", \"wb\"))\n",
    "    print('\\n','derivatives saved (t='+str(t)+')')\n",
    "    \n",
    "    F = J.T@np.linalg.inv(Sigma)@J\n",
    "    pickle.dump(F, open(\"output/params/F_t-\"+str(t)+\".p\", \"wb\"))\n",
    "    print('\\n','Fisher matrix saved (t='+str(t)+')')\n",
    "    \n",
    "#params_PCA(7)"
   ]
  },
  {
   "cell_type": "markdown",
   "metadata": {},
   "source": [
    "#  2-fluid model\n",
    "Below are functions to do PCA on the equation of state and the sound speed of the dark sector in the two fluid model"
   ]
  },
  {
   "cell_type": "code",
   "execution_count": 5,
   "metadata": {},
   "outputs": [
    {
     "data": {
      "text/plain": [
       "[<matplotlib.lines.Line2D at 0x18ec0e08c88>]"
      ]
     },
     "execution_count": 5,
     "metadata": {},
     "output_type": "execute_result"
    },
    {
     "data": {
      "image/png": "[encoded data removed]",
      "text/plain": [
       "<Figure size 432x288 with 1 Axes>"
      ]
     },
     "metadata": {
      "needs_background": "light"
     },
     "output_type": "display_data"
    }
   ],
   "source": [
    "\"\"\"Get the fiduciary parameters for the 2-fluid model\"\"\"\n",
    "\n",
    "# solve for perturbation history using 3-fluid model.\n",
    "Y, TAU = modes.solve_3fld(A, K, wC, cs2C, wN, cs2N, OmegaB0, OmegaC0,\n",
    "           OmegaG0, OmegaN0)\n",
    "\n",
    "Phi = Y[:, 0, :].T\n",
    "deltaG = Y[:, 1, :].T\n",
    "vG = Y[:, 2, :].T\n",
    "deltaC =Y[:, 3, :].T\n",
    "vC = Y[:, 4, :].T\n",
    "deltaN = Y[:, 5, :].T\n",
    "vN =Y[:, 6, :].T\n",
    "\n",
    "OmegaB = OmegaB0 * A[::2]**-3\n",
    "OmegaC = OmegaC0 * A[::2]**-3\n",
    "OmegaN = OmegaN0 * A[::2]**-4\n",
    "OmegaG = OmegaG0 * A[::2]**-4\n",
    "OmegaD = OmegaN + OmegaC\n",
    "\n",
    "# calculate GDM functions\n",
    "wD = OmegaN/(3*OmegaD)\n",
    "deltaD = (OmegaC*deltaC + OmegaN*deltaN)/OmegaD\n",
    "vD = (OmegaC*vC + 4/3*OmegaN*vN)/((1+wD)*OmegaD)\n",
    "cs2D = (deltaN*OmegaN/3)/(deltaD*OmegaD)\n",
    "delta_pD = deltaN\n",
    "\n",
    "deltaD, vD, cs2D, delta_pD = deltaD.T, vD.T, cs2D.T, delta_pD.T\n",
    "\n",
    "Cl2 = spectra.get_Cl_2fld(L, L_eval, X, JLX, DJLX, A[::2], K, wD, cs2D,\n",
    "                                     deltaD[0], vD[0], OmegaB0, OmegaC0, OmegaG0, OmegaN0,\n",
    "                                     As, TCMB0, h)\n",
    "plt.plot(Cl)\n",
    "plt.plot(Cl2)"
   ]
  },
  {
   "cell_type": "code",
   "execution_count": 6,
   "metadata": {},
   "outputs": [],
   "source": [
    "\"\"\"Helper functions for cs2 PCA\"\"\"\n",
    "\n",
    "@numba.njit\n",
    "def square_basis(theta, NC):\n",
    "    height = NT//NC\n",
    "    width = NK//NC\n",
    "    out = np.zeros((NK, NT))\n",
    "    for i in range(NC**2):\n",
    "        r,c = i//NC, i%NC\n",
    "        out[r*width:(r+1)*width, c*height:(c+1)*height] = theta[i]\n",
    "    out[:,A[::2] < a0_pca]=0\n",
    "    return out.T\n",
    "\n",
    "def get_square(n, val, NC):\n",
    "    height = NT//NC\n",
    "    width = NK//NC\n",
    "    out = np.zeros((NK, NT))\n",
    "    r,c = n//NC, n%NC\n",
    "    out[r*width:(r+1)*width, c*height:(c+1)*height] = val\n",
    "    out[:,A[::2] < a0_pca]=0\n",
    "    return out.T"
   ]
  },
  {
   "cell_type": "code",
   "execution_count": 7,
   "metadata": {},
   "outputs": [],
   "source": [
    "def W_PCA(q, t, a0):\n",
    "    \"\"\"This function does PCA on the equation of state in the 2-fluid model, with the sound speed fixed to the fiduciary.\n",
    "    q determines the basis size, and t determines the derivative step size. a0 is the 'cutoff time', before\n",
    "    which the equation of state is not varied during PCA. The outputs (derivatives, fisher matrix, PCs, and singular values)\n",
    "    are saved to pickle files formatted like 'output/w-only/J_q-[q]_t-[t].p'. So, for example, if you make the function call\n",
    "    W_PCA(q=7,t=7,a0=1.e-5), the following files will be created:\n",
    "    output/w-only/J_q-7_t-5.p,  output/w-only/F_q-7_t-5.p,   output/w-only/PC_q-7_t-5.p,   output/w-only/SV_q-7_t-5.p.\n",
    "    These respectively store the derivatives, the fisher matrix, the principal components, and the singular values.\n",
    "    \"\"\"\n",
    "    \n",
    "    NC = 2**q # number of basis elements\n",
    "    ss = 0.1**t # derivative step size\n",
    "    \n",
    "    # initialize a 1-d gaussian basis\n",
    "    B = np.zeros((NC,NT))\n",
    "    width=NT//(NC-1)\n",
    "    for i in range(NC):\n",
    "        # each row of B is a gaussian basis-element\n",
    "        if A[::2][i*width]>a0_pca:\n",
    "            B[i] = np.exp(-(np.arange(NT) - i*width)**2 / (width)**2)\n",
    "       \n",
    "        #B[i,A[::2] < a0_pca]=0\n",
    "    # initialize an empty array to hold the partial derivatives\n",
    "    J = np.zeros((len(L_eval), NC))\n",
    "    print('computing derivatives (q='+str(q)+',t='+str(t)+')')\n",
    "    for n in range(NC):\n",
    "        # Take the central-difference derivative of Cl with respect to the nth basis coefficient.\n",
    "        Delta_w = ss*B[n]\n",
    "        Cl_fwd = spectra.get_Cl_2fld(L, L_eval, X, JLX, DJLX, A[::2], K, wD+Delta_w, cs2D,\n",
    "                                     deltaD[0], vD[0], OmegaB0, OmegaC0, OmegaG0, OmegaN0,\n",
    "                                     As, TCMB0, h)\n",
    "        Cl_bwd = spectra.get_Cl_2fld(L, L_eval, X, JLX, DJLX, A[::2], K, wD-Delta_w, cs2D,\n",
    "                                     deltaD[0], vD[0], OmegaB0, OmegaC0, OmegaG0, OmegaN0,\n",
    "                                     As, TCMB0, h)\n",
    "        # The result goes in the nth column of J.\n",
    "        J[:, n] = (Cl_fwd - Cl_bwd)/(2.*ss)\n",
    "    \n",
    "    # save the derivatives\n",
    "    pickle.dump(J, open(\"output/w-only/J_q-\"+str(q)+\"_t-\"+str(t)+\".p\", \"wb\"))\n",
    "    print('\\n','derivatives saved (q='+str(q)+',t='+str(t)+')')\n",
    "    \n",
    "    # compute and save the  Fisher matrix.\n",
    "    F = J.T@np.linalg.inv(Sigma)@J\n",
    "    pickle.dump(F, open(\"output/w-only/F_q-\"+str(q)+\"_t-\"+str(t)+\".p\", \"wb\"))\n",
    "    print('\\n','Fisher matrix saved (q='+str(q)+',t='+str(t)+')')\n",
    "    \n",
    "    # compute and save the singular values and principal components.\n",
    "    u, s, v = np.linalg.svd(F)\n",
    "    PV = np.real(u) \n",
    "    PC = np.zeros((10, NT))\n",
    "    for i in range(10):\n",
    "        PC[i,:] = PV[:,i]@B\n",
    "    pickle.dump(PC, open(\"output/w-only/PC_q-\"+str(q)+\"_t-\"+str(t)+\".p\", \"wb\"))\n",
    "    pickle.dump(s, open(\"output/w-only/SV_q-\"+str(q)+\"_t-\"+str(t)+\".p\", \"wb\"))\n",
    "    print('\\n','PCs and SVs saved (q='+str(q)+',t='+str(t)+')')"
   ]
  },
  {
   "cell_type": "code",
   "execution_count": 8,
   "metadata": {},
   "outputs": [],
   "source": [
    "def CS2_PCA(q, t, a0):\n",
    "    \"\"\"This function does PCA on the sound speed in the 2-fluid model, with the equation of state fixed to the fiduciary.\n",
    "    q determines the basis size, and t determines the derivative step size. a0 is the 'cutoff time', before\n",
    "    which the sound speed is not varied during PCA. The outputs (derivatives, fisher matrix, PCs, and singular values)\n",
    "    are saved to pickle files formatted like 'output/cs2-only/J_q-[q]_t-[t].p'. So, for example, if you make the function call\n",
    "    W_PCA(q=7,t=7,a0=1.e-5), the following files will be created:\n",
    "    output/cs2-only/J_q-7_t-5.p,  output/cs2-only/F_q-7_t-5.p,   output/cs2-only/PC_q-7_t-5.p,   output/cs2-only/SV_q-7_t-5.p.\n",
    "    These respectively store the derivatives, the fisher matrix, the principal components, and the singular values.\n",
    "    \"\"\"\n",
    "    NC = 2**q # number of basis elements\n",
    "    ss = 0.1**t # derivative step size\n",
    "    \n",
    "    # take the central-difference derivatives of Cl w.r.t. cs2 basis coefficients.\n",
    "    J = np.zeros((len(L_eval), NC**2))\n",
    "    print('computing derivatives (t='+str(t)+')')\n",
    "    for n in range(NC**2):\n",
    "        delta_cs2 = get_square(n, ss, NC)\n",
    "        Cl_fwd = spectra.get_Cl_2fld(L, L_eval, X, JLX, DJLX, A[::2], K, wD, cs2D+delta_cs2,\n",
    "                                     deltaD[0], vD[0], OmegaB0, OmegaC0, OmegaG0, OmegaN0,\n",
    "                                     As, TCMB0, h)\n",
    "        Cl_bwd = spectra.get_Cl_2fld(L, L_eval, X, JLX, DJLX, A[::2], K, wD, cs2D-delta_cs2,\n",
    "                                     deltaD[0], vD[0], OmegaB0, OmegaC0, OmegaG0, OmegaN0,\n",
    "                                     As, TCMB0, h)\n",
    "        J[:, n] = (Cl_fwd - Cl_bwd)/(2.*ss)\n",
    "        if(n % 10 == 0):\n",
    "            print(str(n) + ' of ' + str(NC**2))\n",
    "    \n",
    "    # save the derivatives\n",
    "    pickle.dump(J, open(\"output/cs2-only/J_q-\"+str(q)+\"_t-\"+str(t)+\".p\", \"wb\"))\n",
    "    print('\\n','derivatives saved (q='+str(q)+',t='+str(t)+')')\n",
    "    \n",
    "    # compute and save the  Fisher matrix.\n",
    "    F = J.T@np.linalg.inv(Sigma)@J\n",
    "    pickle.dump(F, open(\"output/cs2-only/F_q-\"+str(q)+\"_t-\"+str(t)+\".p\", \"wb\"))\n",
    "    print('\\n','Fisher matrix saved (q='+str(q)+',t='+str(t)+')')\n",
    "    \n",
    "    print('\\n','computing PCs (t='+str(t)+')')\n",
    "    u, s, v = np.linalg.svd(F)\n",
    "    PV = np.real(u) \n",
    "    PC = np.zeros((10, NT, NK))\n",
    "    for i in range(10):\n",
    "        PC[i,:,:] = square_basis(PV[:,i], NC)\n",
    "    pickle.dump(PC, open(\"output/cs2-only/PC_q-\"+str(q)+\"_t-\"+str(t)+\".p\", \"wb\"))\n",
    "    pickle.dump(s, open(\"output/cs2-only/SV_q-\"+str(q)+\"_t-\"+str(t)+\".p\", \"wb\"))\n",
    "    print('\\n','PCs and SVs saved (q='+str(q)+',t='+str(t)+')')"
   ]
  },
  {
   "cell_type": "code",
   "execution_count": 153,
   "metadata": {},
   "outputs": [],
   "source": [
    "def W_CS2_PCA(q, t, a0):\n",
    "    NC = 2**q # number of basis elements\n",
    "    ss = 0.1**t # derivative step size\n",
    "\n",
    "    # initialize a 1-d gaussian basis\n",
    "    B = np.zeros((NC,NT))\n",
    "    width=NT//(NC-1)\n",
    "    for i in range(NC):\n",
    "        # each row of B is a gaussian basis-element\n",
    "        if A[::2][i*width]>a0_pca:\n",
    "            B[i] = np.exp(-(np.arange(NT) - i*width)**2 / (width)**2)\n",
    "\n",
    "    J_w = pickle.load(open(\"output/w-only/J_q-\"+str(q)+\"_t-\"+str(t)+\".p\", \"rb\"))\n",
    "    J_cs2 = pickle.load(open(\"output/cs2-only/J_q-\"+str(q)+\"_t-\"+str(t)+\".p\", \"rb\"))\n",
    "    J = np.concatenate((J_w,J_cs2),axis=1)\n",
    "\n",
    "    # compute and save the  Fisher matrix.\n",
    "    F = J.T@np.linalg.inv(Sigma)@J\n",
    "    pickle.dump(F, open(\"output/w-cs2/F_q-\"+str(q)+\"_t-\"+str(t)+\".p\", \"wb\"))\n",
    "\n",
    "    print('\\n','computing PCs (t='+str(t)+')')\n",
    "    u, s, v = np.linalg.svd(F)\n",
    "    PV = np.real(u) \n",
    "\n",
    "    PV_w = PV[:NC,:]\n",
    "    PV_cs2 = PV[NC:,:]\n",
    "    print(np.shape(PV_w))\n",
    "\n",
    "    PC_w = np.zeros((10, NT))\n",
    "    PC_cs2 = np.zeros((10, NT, NK))\n",
    "    for i in range(10):\n",
    "        PC_w[i,:] = PV_w[:,i]@B\n",
    "        PC_cs2[i,:,:] = square_basis(PV_cs2[:,i], NC)\n",
    "    pickle.dump(PC_w, open(\"output/w-cs2/wPC_q-\"+str(q)+\"_t-\"+str(t)+\".p\", \"wb\"))\n",
    "    pickle.dump(PC_cs2, open(\"output/w-cs2/cs2PC_q-\"+str(q)+\"_t-\"+str(t)+\".p\", \"wb\"))\n",
    "    pickle.dump(s, open(\"output/w-cs2/SV_q-\"+str(q)+\"_t-\"+str(t)+\".p\", \"wb\"))\n",
    "    print('\\n','PCs and SVs saved (q='+str(q)+',t='+str(t)+')')"
   ]
  },
  {
   "cell_type": "code",
   "execution_count": 159,
   "metadata": {},
   "outputs": [
    {
     "name": "stdout",
     "output_type": "stream",
     "text": [
      "\n",
      " computing PCs (t=7)\n",
      "(16, 272)\n",
      "\n",
      " PCs and SVs saved (q=4,t=7)\n",
      "\n",
      " computing PCs (t=7)\n",
      "(32, 1056)\n",
      "\n",
      " PCs and SVs saved (q=5,t=7)\n",
      "\n",
      " computing PCs (t=7)\n",
      "(64, 4160)\n",
      "\n",
      " PCs and SVs saved (q=6,t=7)\n",
      "\n",
      " computing PCs (t=7)\n",
      "(128, 16512)\n",
      "\n",
      " PCs and SVs saved (q=7,t=7)\n"
     ]
    }
   ],
   "source": [
    "W_CS2_PCA(q=4, t=7, a0=a0_pca)\n",
    "W_CS2_PCA(q=5, t=7, a0=a0_pca)\n",
    "W_CS2_PCA(q=6, t=7, a0=a0_pca)\n",
    "W_CS2_PCA(q=7, t=7, a0=a0_pca)"
   ]
  },
  {
   "cell_type": "code",
   "execution_count": 32,
   "metadata": {},
   "outputs": [
    {
     "name": "stdout",
     "output_type": "stream",
     "text": [
      "computing derivatives (t=7)\n",
      "0 of 256\n"
     ]
    },
    {
     "ename": "KeyboardInterrupt",
     "evalue": "",
     "output_type": "error",
     "traceback": [
      "\u001b[1;31m---------------------------------------------------------------------------\u001b[0m",
      "\u001b[1;31mKeyboardInterrupt\u001b[0m                         Traceback (most recent call last)",
      "\u001b[1;32m<ipython-input-32-e7fca36941f6>\u001b[0m in \u001b[0;36m<module>\u001b[1;34m\u001b[0m\n\u001b[1;32m----> 1\u001b[1;33m \u001b[0mCS2_PCA\u001b[0m\u001b[1;33m(\u001b[0m\u001b[0mq\u001b[0m\u001b[1;33m=\u001b[0m\u001b[1;36m4\u001b[0m\u001b[1;33m,\u001b[0m \u001b[0mt\u001b[0m\u001b[1;33m=\u001b[0m\u001b[1;36m7\u001b[0m\u001b[1;33m,\u001b[0m \u001b[0ma0\u001b[0m\u001b[1;33m=\u001b[0m\u001b[0ma0_pca\u001b[0m\u001b[1;33m)\u001b[0m\u001b[1;33m\u001b[0m\u001b[1;33m\u001b[0m\u001b[0m\n\u001b[0m\u001b[0;32m      2\u001b[0m \u001b[0mCS2_PCA\u001b[0m\u001b[1;33m(\u001b[0m\u001b[0mq\u001b[0m\u001b[1;33m=\u001b[0m\u001b[1;36m5\u001b[0m\u001b[1;33m,\u001b[0m \u001b[0mt\u001b[0m\u001b[1;33m=\u001b[0m\u001b[1;36m7\u001b[0m\u001b[1;33m,\u001b[0m \u001b[0ma0\u001b[0m\u001b[1;33m=\u001b[0m\u001b[0ma0_pca\u001b[0m\u001b[1;33m)\u001b[0m\u001b[1;33m\u001b[0m\u001b[1;33m\u001b[0m\u001b[0m\n",
      "\u001b[1;32m<ipython-input-8-5e5e52b22d17>\u001b[0m in \u001b[0;36mCS2_PCA\u001b[1;34m(q, t, a0)\u001b[0m\n\u001b[0;32m     18\u001b[0m         Cl_fwd = spectra.get_Cl_2fld(L, L_eval, X, JLX, DJLX, A[::2], K, wD, cs2D+delta_cs2,\n\u001b[0;32m     19\u001b[0m                                      \u001b[0mdeltaD\u001b[0m\u001b[1;33m[\u001b[0m\u001b[1;36m0\u001b[0m\u001b[1;33m]\u001b[0m\u001b[1;33m,\u001b[0m \u001b[0mvD\u001b[0m\u001b[1;33m[\u001b[0m\u001b[1;36m0\u001b[0m\u001b[1;33m]\u001b[0m\u001b[1;33m,\u001b[0m \u001b[0mOmegaB0\u001b[0m\u001b[1;33m,\u001b[0m \u001b[0mOmegaC0\u001b[0m\u001b[1;33m,\u001b[0m \u001b[0mOmegaG0\u001b[0m\u001b[1;33m,\u001b[0m \u001b[0mOmegaN0\u001b[0m\u001b[1;33m,\u001b[0m\u001b[1;33m\u001b[0m\u001b[1;33m\u001b[0m\u001b[0m\n\u001b[1;32m---> 20\u001b[1;33m                                      As, TCMB0, h)\n\u001b[0m\u001b[0;32m     21\u001b[0m         Cl_bwd = spectra.get_Cl_2fld(L, L_eval, X, JLX, DJLX, A[::2], K, wD, cs2D-delta_cs2,\n\u001b[0;32m     22\u001b[0m                                      \u001b[0mdeltaD\u001b[0m\u001b[1;33m[\u001b[0m\u001b[1;36m0\u001b[0m\u001b[1;33m]\u001b[0m\u001b[1;33m,\u001b[0m \u001b[0mvD\u001b[0m\u001b[1;33m[\u001b[0m\u001b[1;36m0\u001b[0m\u001b[1;33m]\u001b[0m\u001b[1;33m,\u001b[0m \u001b[0mOmegaB0\u001b[0m\u001b[1;33m,\u001b[0m \u001b[0mOmegaC0\u001b[0m\u001b[1;33m,\u001b[0m \u001b[0mOmegaG0\u001b[0m\u001b[1;33m,\u001b[0m \u001b[0mOmegaN0\u001b[0m\u001b[1;33m,\u001b[0m\u001b[1;33m\u001b[0m\u001b[1;33m\u001b[0m\u001b[0m\n",
      "\u001b[1;31mKeyboardInterrupt\u001b[0m: "
     ]
    }
   ],
   "source": [
    "CS2_PCA(q=4, t=7, a0=a0_pca)\n",
    "CS2_PCA(q=5, t=7, a0=a0_pca)"
   ]
  },
  {
   "cell_type": "code",
   "execution_count": 49,
   "metadata": {},
   "outputs": [
    {
     "name": "stdout",
     "output_type": "stream",
     "text": [
      "computing derivatives (q=4,t=7)\n",
      "\n",
      " derivatives saved (q=4,t=7)\n",
      "\n",
      " Fisher matrix saved (q=4,t=7)\n",
      "\n",
      " PCs and SVs saved (q=4,t=7)\n"
     ]
    }
   ],
   "source": [
    "W_PCA(q=4, t=7, a0=a0_pca)\n",
    "#W_PCA(q=6, t=7, a0=a0_pca)\n",
    "#W_PCA(q=11, t=7, a0=a0_pca)\n",
    "#W_PCA(q=12, t=7, a0=a0_pca)"
   ]
  },
  {
   "cell_type": "code",
   "execution_count": 30,
   "metadata": {},
   "outputs": [
    {
     "data": {
      "image/png": "[encoded data removed]",
      "text/plain": [
       "<Figure size 432x288 with 2 Axes>"
      ]
     },
     "metadata": {
      "needs_background": "light"
     },
     "output_type": "display_data"
    },
    {
     "data": {
      "image/png": "[encoded data removed]",
      "text/plain": [
       "<Figure size 432x288 with 1 Axes>"
      ]
     },
     "metadata": {
      "needs_background": "light"
     },
     "output_type": "display_data"
    },
    {
     "data": {
      "text/plain": [
       "<matplotlib.image.AxesImage at 0x268a46d6388>"
      ]
     },
     "execution_count": 30,
     "metadata": {},
     "output_type": "execute_result"
    },
    {
     "data": {
      "image/png": "[encoded data removed]",
      "text/plain": [
       "<Figure size 432x288 with 1 Axes>"
      ]
     },
     "metadata": {
      "needs_background": "light"
     },
     "output_type": "display_data"
    }
   ],
   "source": [
    "PC = pickle.load(open(\"output/cs2-only/PC_q-4_t-7.p\", \"rb\"))\n",
    "plt.imshow(PC[0].T,aspect='auto')\n",
    "plt.colorbar()\n",
    "plt.show()\n",
    "plt.imshow(PC[1].T,aspect='auto')\n",
    "plt.show()\n",
    "plt.imshow(PC[2].T,aspect='auto')"
   ]
  },
  {
   "cell_type": "code",
   "execution_count": null,
   "metadata": {},
   "outputs": [],
   "source": []
  }
 ],
 "metadata": {
  "kernelspec": {
   "display_name": "Python 3",
   "language": "python",
   "name": "python3"
  },
  "language_info": {
   "codemirror_mode": {
    "name": "ipython",
    "version": 3
   },
   "file_extension": ".py",
   "mimetype": "text/x-python",
   "name": "python",
   "nbconvert_exporter": "python",
   "pygments_lexer": "ipython3",
   "version": "3.7.4"
  }
 },
 "nbformat": 4,
 "nbformat_minor": 2
}
