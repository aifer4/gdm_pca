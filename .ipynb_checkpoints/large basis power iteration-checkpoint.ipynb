{
 "cells": [
  {
   "cell_type": "code",
   "execution_count": 10,
   "metadata": {},
   "outputs": [],
   "source": [
    "# third party imports\n",
    "import numpy as np\n",
    "from numpy import exp, log, log10, sqrt, zeros, ones, linspace\n",
    "import matplotlib.pyplot as plt\n",
    "import numba\n",
    "import pickle\n",
    "\n",
    "# other project files\n",
    "import modes\n",
    "import spectra\n",
    "import util"
   ]
  },
  {
   "cell_type": "code",
   "execution_count": 13,
   "metadata": {},
   "outputs": [
    {
     "name": "stdout",
     "output_type": "stream",
     "text": [
      "Bessel functions loaded from file.\n"
     ]
    }
   ],
   "source": [
    "# numerical parameters\n",
    "NT = 2**13\n",
    "NK = 2**11\n",
    "NX = 10000\n",
    "L_MAX = 2500\n",
    "xmin = 0.01\n",
    "xmax = 3000\n",
    "a0 = 1.e-6\n",
    "a0_pca = 5.e-5\n",
    "a_rec = 1/1100\n",
    "# arrays\n",
    "A = np.linspace(a0, a_rec, 2*NT)\n",
    "K = np.linspace(.1, 800, NK)\n",
    "K_Mpc = K/4400\n",
    "L = np.array([i for i in range(2, 50, 1)]+[i for i in range(50, 200, 5)] +\n",
    "                  [i for i in range(200, L_MAX+1, 20)])\n",
    "L_eval = np.arange(2, L_MAX+1)\n",
    "NL = len(L)\n",
    "X = np.linspace(xmin, xmax, NX)\n",
    "JLX, DJLX = spectra.get_bessels(L, X)"
   ]
  },
  {
   "cell_type": "code",
   "execution_count": 14,
   "metadata": {},
   "outputs": [],
   "source": [
    "# physical parameters\n",
    "h = 0.6774\n",
    "As = np.exp(3.064)/1.e10 # scalar perturbation amplitude\n",
    "TCMB0 = 2.72548 * 1.e6 # CMB temp (microK)\n",
    "OmegaM0 = 0.3089\n",
    "OmegaB0 = 0.0486\n",
    "OmegaR0 = 4.2e-5/h**2\n",
    "OmegaN0 = OmegaR0*(1-1/1.68)\n",
    "OmegaG0 = OmegaR0 - OmegaN0\n",
    "OmegaC0 = OmegaM0 - OmegaB0\n",
    "wC = np.zeros(2*NT)\n",
    "wN = np.ones(2*NT)*1/3\n",
    "cs2C = np.zeros((2*NT, NK))\n",
    "cs2N = np.ones((2*NT, NK))*1/3\n",
    "params_F = [wC, cs2C, wN, cs2N, OmegaB0, OmegaC0, OmegaG0, OmegaN0, As, TCMB0, h]\n",
    "\n",
    "Cl = spectra.get_Cl_3fld(L, L_eval, X, JLX, DJLX, A, K, *params_F)\n",
    "err = spectra.get_Cl_err(L_eval,Cl)\n",
    "Sigma = np.diag(err**2)\n"
   ]
  },
  {
   "cell_type": "code",
   "execution_count": 15,
   "metadata": {},
   "outputs": [],
   "source": [
    "@numba.njit\n",
    "def square_basis(theta, NC):\n",
    "    height = NT//NC\n",
    "    width = NK//NC\n",
    "    out = np.zeros((NK, NT))\n",
    "    for i in range(NC**2):\n",
    "        r,c = i//NC, i%NC\n",
    "        out[r*width:(r+1)*width, c*height:(c+1)*height] = theta[i]\n",
    "    out[:,A[::2] < a0_pca]=0\n",
    "    return out.T\n",
    "\n",
    "@numba.njit\n",
    "def square_basis_inv(X, NC):\n",
    "    v= np.zeros(NC**2)\n",
    "    width = NT//NC\n",
    "    height = NK//NC\n",
    "    for i in range(NC**2):\n",
    "        v[i] = X[(i%NC)*width+width-1, (i//NC)*height+height-1]\n",
    "    return v\n",
    "\n",
    "@numba.njit\n",
    "def double_sample(v):\n",
    "    M = int(sqrt(len(v)))\n",
    "    N = 2*M\n",
    "    v2  = np.zeros(N**2)\n",
    "    \n",
    "    for i in range(M**2):\n",
    "        R1 = (N*i)//M + N*(i//M)\n",
    "        R2 = R1+1\n",
    "        R3 = R1+N\n",
    "        R4 = R2+N\n",
    "        v2[R1] = v2[R2] = v2[R3] = v2[R4] = v[i]\n",
    "    return v2/2\n",
    "\n",
    "\n",
    "def get_square(n, val, NC):\n",
    "    height = NT//NC\n",
    "    width = NK//NC\n",
    "    out = np.zeros((NK, NT))\n",
    "    r,c = n//NC, n%NC\n",
    "    out[r*width:(r+1)*width, c*height:(c+1)*height] = val\n",
    "    out[:,A[::2] < a0_pca]=0\n",
    "    return out.T"
   ]
  },
  {
   "cell_type": "code",
   "execution_count": 16,
   "metadata": {},
   "outputs": [],
   "source": [
    "@numba.njit()\n",
    "def powit(J_static, Sigma, v0):\n",
    "    \"\"\"Power iteration eigensolver. Gets largest m eigenvalues of J^T \\Sigma J.\"\"\"\n",
    "    J = np.copy(J_static)\n",
    "    n = 20\n",
    "    N = len(J.T)\n",
    "    err = np.zeros(n)\n",
    "    \n",
    "    # arrays U and L eigenvectors and eigenvalues respectively\n",
    "    U = np.zeros(N)\n",
    "    L = 0\n",
    "    \n",
    "    # initialize the eigenvector 'guess' to a random unit vector\n",
    "    u = v0\n",
    "    for j in range(n):\n",
    "        # compute the product (J^T \\Sigma J)u step by step.\n",
    "        u_n = J.T@(np.diag(Sigma)@(J@u))\n",
    "        u_n/=np.linalg.norm(u_n)\n",
    "        err[j]=np.linalg.norm(u_n-u)\n",
    "        u = u_n\n",
    "    U=u\n",
    "    # compute the rayleigh quotient without making a big matrix:\n",
    "    RQ_num = (J@u)@np.diag(Sigma)@(J@u)\n",
    "    L=RQ_num/(u.T@u)\n",
    "    return L,U, err\n",
    "\n",
    "#@numba.njit()\n",
    "def Powit(J_static, Sigma, m, V0):\n",
    "    \"\"\"Power iteration eigensolver. Gets largest m eigenvalues of J^T \\Sigma J.\"\"\"\n",
    "    J = np.copy(J_static)\n",
    "    n = 50\n",
    "    # get N largest eigenvalues and eigenvectors of A using power iteration\n",
    "    N = len(J.T)\n",
    "    err = np.zeros((m,n))\n",
    "    \n",
    "    # arrays U and L eigenvectors and eigenvalues respectively\n",
    "    U = np.zeros((N,m))\n",
    "    L = np.zeros(m)\n",
    "    for i in range(m):\n",
    "        # initialize the eigenvector guess\n",
    "        u = V0[:,i]\n",
    "        # iterate to find the ith eigenvector\n",
    "        for j in range(n):\n",
    "            # compute the product (J^T \\Sigma J)u step by step.\n",
    "            u_n = J.T@(np.diag(Sigma)@(J@u))\n",
    "            u_n/=np.linalg.norm(u_n)\n",
    "            err[i,j]=np.linalg.norm(u_n-u)\n",
    "            u = u_n\n",
    "        U[:,i]=u\n",
    "        # compute the rayleigh quotient without making a big matrix:\n",
    "        RQ_num = (J@u)@np.diag(Sigma)@(J@u)\n",
    "        L[i]=RQ_num/(u.T@u)\n",
    "        J -= np.outer(J@u,u)\n",
    "    return L,U, err\n"
   ]
  },
  {
   "cell_type": "code",
   "execution_count": 76,
   "metadata": {},
   "outputs": [],
   "source": [
    "def RRMSE(a,b):\n",
    "    RMSE = sqrt(np.mean((a-b)**2))\n",
    "    return RMSE/sqrt(np.mean(b**2))\n",
    "\n",
    "powit_err_q = np.zeros((6,5))"
   ]
  },
  {
   "cell_type": "code",
   "execution_count": 77,
   "metadata": {},
   "outputs": [],
   "source": [
    "q = 8\n",
    "N = 2**q\n",
    "M = 2**(q-1)\n",
    "\n",
    "J = pickle.load(open(\"output/cs2-only/J_q-{}_t-7.p\".format(q), \"rb\"))\n",
    "PC_powit = np.zeros((5, NT, NK))"
   ]
  },
  {
   "cell_type": "code",
   "execution_count": 80,
   "metadata": {},
   "outputs": [],
   "source": [
    "#PC = pickle.load(open(\"output/cs2-only/PC_q-{}_t-7.p\".format(q), \"rb\"))\n",
    "PC_prev = pickle.load(open(\"output/cs2-only/PC_q-{}_t-7.p\".format(q-1), \"rb\"))\n",
    "SV_prev = pickle.load(open(\"output/cs2-only/SV_q-{}_t-7.p\".format(q-1), \"rb\"))\n",
    "\n",
    "v_init = np.random.rand(N**2,10)\n",
    "v_init2 = np.ones((N**2,10))\n",
    "for i in range(10):\n",
    "    PV_prev = square_basis_inv(PC_prev[i,:,:], M)\n",
    "    v_init2[:,i] = double_sample(PV_prev)"
   ]
  },
  {
   "cell_type": "code",
   "execution_count": null,
   "metadata": {},
   "outputs": [
    {
     "name": "stderr",
     "output_type": "stream",
     "text": [
      "C:\\ProgramData\\Anaconda3\\lib\\site-packages\\ipykernel_launcher.py:1: RuntimeWarning: divide by zero encountered in true_divide\n",
      "  \"\"\"Entry point for launching an IPython kernel.\n"
     ]
    }
   ],
   "source": [
    "SV, PV, err = Powit(J,np.diag(1/Sigma),10,v_init)\n",
    "SV2, PV2, err2 = Powit(J,np.diag(1/Sigma),10,v_init2)"
   ]
  },
  {
   "cell_type": "code",
   "execution_count": null,
   "metadata": {},
   "outputs": [],
   "source": [
    "for i in range(5):\n",
    "    PC_powit[i] = square_basis(PV2[:,i], N)\n",
    "    if np.sign(PC_powit[i,3000,1000])!=np.sign(PC_prev[i,3000,1000]):\n",
    "        PC_powit[i]*=-1\n",
    "    #PC_powit[i]*=-1"
   ]
  },
  {
   "cell_type": "code",
   "execution_count": null,
   "metadata": {},
   "outputs": [],
   "source": [
    "plt.rcParams.update({'font.size': 15})\n",
    "plt.figure(figsize=(15,10))\n",
    "plt.plot(err.T, linewidth=1)\n",
    "plt.gca().set_prop_cycle(None)\n",
    "plt.plot(err2.T,linestyle=':',linewidth=2.5)\n",
    "plt.semilogy()\n",
    "\n",
    "plt.legend(['PC 1 convergence (random $v_0$)',\n",
    "            'PC 2 convergence (random $v_0$)',\n",
    "           'PC 3 convergence (random $v_0$)',\n",
    "           'PC 4 convergence (random $v_0$)',\n",
    "           'PC 5 convergence (random $v_0$)',\n",
    "           'PC 1 convergence (best guess)',\n",
    "           'PC 2 convergence (best guess)',\n",
    "           'PC 3 convergence (best guess)',\n",
    "           'PC 4 convergence (best guess)',\n",
    "           'PC 5 convergence (best guess)'])\n",
    "plt.xlabel('iteration number')\n",
    "plt.ylabel('$|v_i - v_{i-1}|$')\n",
    "plt.title('Power iteration convergence (q={})'.format(q))\n",
    "plt.show()\n",
    "plt.rcParams.update({'font.size': 10})"
   ]
  },
  {
   "cell_type": "code",
   "execution_count": null,
   "metadata": {},
   "outputs": [],
   "source": [
    "\n",
    "n = 4\n",
    "\n",
    "plt.figure(figsize=(15,10))\n",
    "vmin, vmax = np.min(PC_powit[n,:,:]), np.max(PC_powit[n,:,:])\n",
    "plt.imshow(PC_powit[n,:,:].T, aspect='auto',extent=[0,a_rec,0,K_Mpc[-1]],vmin=vmin, vmax=vmax)\n",
    "plt.xlabel('k (Mpc)')\n",
    "plt.ylabel('a')\n",
    "plt.colorbar()\n",
    "plt.title('PC {} (power iteration)'.format(n+1))\n",
    "plt.show()\n",
    "\n",
    "plt.imshow(PC_prev[n,:,:].T, aspect='auto',extent=[0,a_rec,0,K_Mpc[-1]],vmin=vmin, vmax=vmax)\n",
    "plt.xlabel('k (Mpc)')\n",
    "plt.ylabel('a')\n",
    "plt.colorbar()\n",
    "plt.title('PC {} (numpy svd)'.format(n+1))\n",
    "plt.show()\n",
    "\n",
    "powit_err_q[q-5,:] = [RRMSE(PC_powit[n,:,:], PC_prev[n,:,:]) for n in range(5)]\n",
    "print(powit_err_q[q-5,:])"
   ]
  },
  {
   "cell_type": "code",
   "execution_count": null,
   "metadata": {},
   "outputs": [],
   "source": [
    "print(powit_err_q)"
   ]
  },
  {
   "cell_type": "code",
   "execution_count": null,
   "metadata": {},
   "outputs": [],
   "source": [
    "n=3\n",
    "plt.imshow(PC_powit[n,:,:].T/sqrt(SV[n]))\n",
    "plt.colorbar()\n",
    "plt.show()\n",
    "plt.imshow(PC_prev[n,:,:].T/sqrt(SV_prev[n]))\n",
    "plt.colorbar()\n",
    "plt.show()\n",
    "plt.imshow(PC_powit[n,:,:].T-PC_prev[n,:,:].T)\n",
    "plt.colorbar()\n",
    "print(np.linalg.norm(PC_powit[n,:,:].T/sqrt(SV[n])-PC_prev[n,:,:].T/sqrt(SV_prev[n])))"
   ]
  },
  {
   "cell_type": "code",
   "execution_count": null,
   "metadata": {},
   "outputs": [],
   "source": [
    "#PC_prev = pickle.load(open(\"output/cs2-only/PC_q-{}_t-7.p\".format(q-1), \"rb\"))\n",
    "#SV_prev = pickle.load(open(\"output/cs2-only/SV_q-{}_t-7.p\".format(q-1), \"rb\"))\n",
    "pickle.dump(PC_powit, open(\"output/cs2-only/PC_q-{}_t-7.p\".format(q), \"wb\" ) )\n",
    "pickle.dump(SV2, open(\"output/cs2-only/SV_q-{}_t-7.p\".format(q), \"wb\" ) )"
   ]
  },
  {
   "cell_type": "code",
   "execution_count": 73,
   "metadata": {},
   "outputs": [
    {
     "data": {
      "text/plain": [
       "8"
      ]
     },
     "execution_count": 73,
     "metadata": {},
     "output_type": "execute_result"
    }
   ],
   "source": [
    "q"
   ]
  },
  {
   "cell_type": "code",
   "execution_count": null,
   "metadata": {},
   "outputs": [],
   "source": []
  }
 ],
 "metadata": {
  "kernelspec": {
   "display_name": "Python 3",
   "language": "python",
   "name": "python3"
  },
  "language_info": {
   "codemirror_mode": {
    "name": "ipython",
    "version": 3
   },
   "file_extension": ".py",
   "mimetype": "text/x-python",
   "name": "python",
   "nbconvert_exporter": "python",
   "pygments_lexer": "ipython3",
   "version": "3.7.4"
  }
 },
 "nbformat": 4,
 "nbformat_minor": 2
}
