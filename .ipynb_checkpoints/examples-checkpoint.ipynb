{
 "cells": [
  {
   "cell_type": "markdown",
   "metadata": {},
   "source": [
    "## Examples\n",
    "Below you can find examples of calling the functions `solve_3fld` and `solve_2fld` (in the `modes.py` file). There are examples given with perturbations (kicks) added to the fiducial equation of state and sound speed. Below that there is an example of calling the functions `get_Cl_3fld` and `get_Cl_2fld` (in the `spectra.py` file) and comparing the power spectra generated from both functions."
   ]
  },
  {
   "cell_type": "code",
   "execution_count": 3,
   "metadata": {},
   "outputs": [],
   "source": [
    "import modes\n",
    "import spectra\n",
    "from util import trapz, backtrapz, deriv\n",
    "\n",
    "import numpy as np\n",
    "from matplotlib import pyplot as plt"
   ]
  },
  {
   "cell_type": "code",
   "execution_count": 4,
   "metadata": {},
   "outputs": [],
   "source": [
    "\"\"\"Numerical Parameters\"\"\"\n",
    "NT = 10000 # number of time points to use for mode evolution.\n",
    "NK = 2000 # number of wavenumbers to use for mode evolution.\n",
    "a0 = 1.e-6 # initial and final scale factor values.\n",
    "a0_pca = 5.e-5 # GDM functions not varied before a0_pca.\n",
    "a_rec = 1/1100\n",
    "\n",
    "# arrays\n",
    "A = np.linspace(a0, a_rec, 2*NT)\n",
    "K = np.linspace(.1, 1000, NK)"
   ]
  },
  {
   "cell_type": "markdown",
   "metadata": {},
   "source": [
    "## 3-fluid modes and w kick"
   ]
  },
  {
   "cell_type": "code",
   "execution_count": 5,
   "metadata": {},
   "outputs": [],
   "source": [
    "\"\"\"Physical Parameters for 3-fluid\"\"\"\n",
    "h = 0.6774\n",
    "OmegaM0 = 0.3089\n",
    "OmegaB0 = 0.0486\n",
    "OmegaR0 = 4.2e-5/h**2\n",
    "OmegaN0 = OmegaR0*(1-1/1.68)\n",
    "OmegaG0 = OmegaR0 - OmegaN0\n",
    "OmegaC0 = OmegaM0 - OmegaB0\n",
    "\n",
    "# gdm functions for cold dark matter and neutrinos are constant\n",
    "wC = np.zeros(2*NT)\n",
    "wN = np.ones(2*NT)*1/3\n",
    "cs2C = np.zeros((2*NT, NK))\n",
    "cs2N = np.ones((2*NT, NK))*1/3"
   ]
  },
  {
   "cell_type": "code",
   "execution_count": null,
   "metadata": {},
   "outputs": [],
   "source": [
    "# Calling the 3-fluid mode evolution function\n",
    "Y, TAU = modes.solve_3fld(A, K, wC, cs2C, wN, cs2N, OmegaB0, OmegaC0,\n",
    "           OmegaG0, OmegaN0)\n",
    "Phi = Y[:,0,:].T\n",
    "deltaG = Y[:,1,:].T\n",
    "vG = Y[:,2,:].T\n",
    "deltaC = Y[:,3,:].T\n",
    "vC = Y[:,4,:].T\n",
    "deltaN = Y[:,5,:].T\n",
    "vN = Y[:,6,:].T\n",
    "\n",
    "plt.plot(A[::2], Phi[::50].T)\n",
    "plt.xlabel('scale factor')\n",
    "plt.title('$\\delta \\phi$')\n",
    "plt.show()"
   ]
  },
  {
   "cell_type": "code",
   "execution_count": null,
   "metadata": {},
   "outputs": [],
   "source": [
    "\"\"\" Calling the 3-fluid mode evolution function with w-kicks for w_C and w_N\"\"\"\n",
    "\n",
    "def bump(A, a_center, width):\n",
    "    # returns a gaussian bump defined on the given array A\n",
    "    return np.exp(-.5*((A-a_center)/(.5*width))**2)\n",
    "\n",
    "# here you can perturb wC, wN, or both\n",
    "delta_wC = .01*bump(A, a_rec/4, a_rec/20)\n",
    "wC_per = np.zeros(2*NT)*1/3 + delta_wC\n",
    "wN_per = np.ones(2*NT)*1/3\n",
    "cs2C_per = np.zeros((2*NT, NK)) + np.broadcast_to(delta_wC, (NK, 2*NT)).T\n",
    "cs2N_per = np.ones((2*NT, NK))*1/3\n",
    "\n",
    "\n",
    "# plot the perturbed GDM functions\n",
    "plt.figure(figsize=(10,5))\n",
    "plt.subplot(1,3,1)\n",
    "plt.title('perturbed CDM equation of state')\n",
    "plt.plot(A,wC_per)\n",
    "plt.plot(A,wN_per)\n",
    "plt.legend(['$w_C$', '$w_N$'])\n",
    "plt.xlabel('scale factor')\n",
    "plt.subplot(1,3,2)\n",
    "\n",
    "plt.title('perturbed CDM sound speed')\n",
    "plt.imshow(cs2C_per.T,aspect='auto')\n",
    "plt.colorbar()\n",
    "plt.xlabel('scale factor')\n",
    "plt.tight_layout()\n",
    "\n",
    "plt.subplot(1,3,3)\n",
    "plt.title('perturbed neutrino sound speed')\n",
    "plt.imshow(cs2N_per.T,aspect='auto')\n",
    "plt.colorbar()\n",
    "plt.xlabel('scale factor')\n",
    "plt.tight_layout()\n",
    "plt.show()\n",
    "\n",
    "# compute modes again with modified GDM functions\n",
    "Y_per, TAU = modes.solve_3fld(A, K, wC_per, cs2C_per, wN_per, cs2N_per, OmegaB0, OmegaC0,\n",
    "           OmegaG0, OmegaN0)\n",
    "Phi_per = Y_per[:,0,:].T\n",
    "deltaG_per = Y_per[:,1,:].T\n",
    "vG_per = Y_per[:,2,:].T\n",
    "deltaC_per = Y_per[:,3,:].T\n",
    "vC_per = Y_per[:,4,:].T\n",
    "deltaN_per = Y_per[:,5,:].T\n",
    "vN_per = Y_per[:,6,:].T\n",
    "print(np.shape(Phi_per))"
   ]
  },
  {
   "cell_type": "code",
   "execution_count": null,
   "metadata": {},
   "outputs": [],
   "source": [
    "plt.figure(figsize=(15,8))\n",
    "plt.title('Effect of w kick on 3-fluid mode evolution')\n",
    "\n",
    "# plot the fiducial 3-fluid mode evolution\n",
    "plt.plot(A[::2], deltaC[::NK//15].T)\n",
    "\n",
    "# reset the color cycle so the colors of both lines match up for each mode.\n",
    "plt.gca().set_prop_cycle(None)\n",
    "\n",
    "# plot the perturbed 3-fluid mode evolution\n",
    "plt.plot(A[::2], deltaC_per[::NK//15].T,linestyle=':',linewidth=3)\n",
    "plt.xlabel('scale factor')\n",
    "#plt.semilogx()\n",
    "plt.show()"
   ]
  },
  {
   "cell_type": "markdown",
   "metadata": {},
   "source": [
    "## 2-fluid modes and w kick"
   ]
  },
  {
   "cell_type": "code",
   "execution_count": null,
   "metadata": {},
   "outputs": [],
   "source": [
    "\"\"\"Get the fiduciary parameters for the 2-fluid model\"\"\"\n",
    "\n",
    "OmegaB = OmegaB0 * A[::2]**-3\n",
    "OmegaC = OmegaC0 * A[::2]**-3\n",
    "OmegaN = OmegaN0 * A[::2]**-4\n",
    "OmegaG = OmegaG0 * A[::2]**-4\n",
    "OmegaD = OmegaN + OmegaC\n",
    "\n",
    "# calculate GDM functions\n",
    "wD = OmegaN/(3*OmegaD)\n",
    "deltaD = (OmegaC*deltaC + OmegaN*deltaN)/OmegaD\n",
    "vD = (OmegaC*vC + 4/3*OmegaN*vN)/((1+wD)*OmegaD)\n",
    "cs2D = (deltaN*OmegaN/3)/(deltaD*OmegaD)\n",
    "delta_pD = deltaN\n",
    "\n",
    "deltaD, vD, cs2D, delta_pD = deltaD.T, vD.T, cs2D.T, delta_pD.T\n",
    "\n",
    "Y2, TAU2 = modes.solve_2fld(A[::2], K, wD, cs2D, deltaD[0], vD[0], OmegaB0,\n",
    "               OmegaC0, OmegaG0, OmegaN0, OmegaC0 + OmegaN0)\n",
    "Phi2 = Y2[:,0,:].T\n",
    "deltaG2 = Y2[:,1,:].T\n",
    "vG2 = Y2[:,2,:].T\n",
    "deltaD2 = Y2[:,3,:].T\n",
    "vD2 = Y2[:,4,:].T\n",
    "\n",
    "# compare the 2-fluid mode evolution to 3-fluid\n",
    "plt.figure(figsize=(15,8))\n",
    "plt.title('Unperturbed 2-fluid and 3-fluid mode evolution')\n",
    "\n",
    "# plot the fiducial 3-fluid mode evolution\n",
    "plt.plot(A[::2], deltaG[::NK//5].T)\n",
    "\n",
    "# reset the color cycle so the colors of both lines match up for each mode.\n",
    "plt.gca().set_prop_cycle(None)\n",
    "\n",
    "# plot the unperturbed 2-fluid mode evolution\n",
    "plt.plot(A[::4], deltaG2[::NK//5].T,linestyle=':',linewidth=2.5)\n",
    "plt.xlabel('scale factor')\n",
    "#plt.semilogx()\n",
    "plt.show()"
   ]
  },
  {
   "cell_type": "code",
   "execution_count": null,
   "metadata": {},
   "outputs": [],
   "source": [
    "\"\"\" Calling the 2-fluid mode evolution function with w-kicks for w_C and w_N\"\"\"\n",
    "\n",
    "def bump(A, a_center, width):\n",
    "    # returns a gaussian bump defined on the given array A\n",
    "    return np.exp(-.5*((A-a_center)/(.5*width))**2)\n",
    "\n",
    "# here you can perturb wD\n",
    "delta_wD = .001*bump(A[::2], a_rec/4, a_rec/20)\n",
    "wD_per = wD + delta_wD\n",
    "cs2D_per = cs2D + np.broadcast_to(delta_wD, (NK, NT)).T\n",
    "\n",
    "\n",
    "# plot the perturbations to GDM functions\n",
    "plt.figure(figsize=(10,5))\n",
    "plt.subplot(1,2,1)\n",
    "plt.title('equation of state change')\n",
    "plt.plot(A[::2],wD_per - wD)\n",
    "plt.xlabel('scale factor')\n",
    "\n",
    "plt.subplot(1,2,2)\n",
    "plt.title('sound speed change')\n",
    "plt.imshow(cs2D_per.T - cs2D.T,aspect='auto')\n",
    "plt.colorbar()\n",
    "plt.xlabel('scale factor')\n",
    "plt.tight_layout()\n",
    "\n",
    "# compute modes again with modified GDM functions\n",
    "Y2_per, TAU = modes.solve_2fld(A[::2], K, wD_per, cs2D_per, deltaD[0], vD[0], OmegaB0,\n",
    "               OmegaC0, OmegaG0, OmegaN0, OmegaC0 + OmegaN0)\n",
    "Phi2_per = Y2_per[:,0,:].T\n",
    "deltaG2_per = Y2_per[:,1,:].T\n",
    "vG2_per = Y2_per[:,2,:].T\n",
    "deltaD2_per = Y2_per[:,3,:].T\n",
    "vD2_per = Y2_per[:,4,:].T"
   ]
  },
  {
   "cell_type": "code",
   "execution_count": null,
   "metadata": {},
   "outputs": [],
   "source": [
    "plt.figure(figsize=(15,8))\n",
    "plt.title('Effect of w kick on 2-fluid mode evolution')\n",
    "\n",
    "# plot the fiducial 3-fluid mode evolution\n",
    "plt.plot(A[::4], deltaD2[::NK//6].T)\n",
    "\n",
    "# reset the color cycle so the colors of both lines match up for each mode.\n",
    "plt.gca().set_prop_cycle(None)\n",
    "\n",
    "# plot the perturbed 3-fluid mode evolution\n",
    "plt.plot(A[::4], deltaD2_per[::NK//6].T,linestyle=':',linewidth=2.5)\n",
    "plt.xlabel('scale factor')\n",
    "#plt.semilogx()\n",
    "plt.show()"
   ]
  },
  {
   "cell_type": "markdown",
   "metadata": {},
   "source": [
    "## Power Spectrum"
   ]
  },
  {
   "cell_type": "code",
   "execution_count": null,
   "metadata": {},
   "outputs": [],
   "source": [
    "# numerical parameters\n",
    "\n",
    "L_MAX = 2500  # highest l value for power spectrum\n",
    "L = np.array([i for i in range(2, 50, 1)]+[i for i in range(50, 200, 5)] +\n",
    "                  [i for i in range(200, L_MAX, 20)])\n",
    "L_eval = np.arange(2, L_MAX+1) # list of l values where cmb is interpolated\n",
    "NL = len(L)\n",
    "\n",
    "NX = 10000 # number of points at which to evaluate bessel functions.\n",
    "xmin = 0.01 # min and max values for x = k*tau\n",
    "xmax = 3000\n",
    "X = np.linspace(xmin, xmax, NX)\n",
    "\n",
    "# physical parameters\n",
    "As = np.exp(3.064)/1.e10 # scalar perturbation amplitude\n",
    "TCMB0 = 2.72548 * 1.e6 # CMB temp (microK)\n"
   ]
  },
  {
   "cell_type": "code",
   "execution_count": null,
   "metadata": {},
   "outputs": [],
   "source": [
    "\"\"\"Compare power spectra from 3-fluid and 2-fluid\"\"\"\n",
    "# get bessel function and derivative\n",
    "JLX, DJLX = spectra.get_bessels(L, X)\n",
    "\n",
    "params_F = [wC, cs2C, wN, cs2N, OmegaB0, OmegaC0, OmegaG0, OmegaN0, As, TCMB0, h]\n",
    "Cl = spectra.get_Cl_3fld(L, L_eval, X, JLX, DJLX, A, K, *params_F)\n",
    "Cl2 = spectra.get_Cl_2fld(L, L_eval, X, JLX, DJLX, A[::2], K, wD, cs2D,\n",
    "                                     deltaD[0], vD[0], OmegaB0, OmegaC0, OmegaG0, OmegaN0,\n",
    "                                     As, TCMB0, h)\n",
    "plt.plot(L_eval,Cl)\n",
    "plt.plot(L_eval,Cl2, linestyle='--',color='black')\n",
    "plt.legend(['3-fluid power spectrum', '2-fluid power spectrum'])\n",
    "plt.xlabel('$\\ell$')\n",
    "plt.ylabel('$C_\\ell$')\n",
    "plt.show()"
   ]
  },
  {
   "cell_type": "code",
   "execution_count": null,
   "metadata": {},
   "outputs": [],
   "source": []
  }
 ],
 "metadata": {
  "kernelspec": {
   "display_name": "Python 3",
   "language": "python",
   "name": "python3"
  },
  "language_info": {
   "codemirror_mode": {
    "name": "ipython",
    "version": 3
   },
   "file_extension": ".py",
   "mimetype": "text/x-python",
   "name": "python",
   "nbconvert_exporter": "python",
   "pygments_lexer": "ipython3",
   "version": "3.7.4"
  }
 },
 "nbformat": 4,
 "nbformat_minor": 2
}
