{
 "cells": [
  {
   "cell_type": "code",
   "execution_count": 1,
   "metadata": {},
   "outputs": [],
   "source": [
    "import numpy as np\n",
    "import modes\n",
    "import util\n",
    "import spectra\n",
    "from util import trapz, backtrapz, deriv\n",
    "from matplotlib import pyplot as plt\n"
   ]
  },
  {
   "cell_type": "code",
   "execution_count": null,
   "metadata": {},
   "outputs": [],
   "source": []
  },
  {
   "cell_type": "code",
   "execution_count": 2,
   "metadata": {},
   "outputs": [
    {
     "name": "stdout",
     "output_type": "stream",
     "text": [
      "Bessel functions not found. Computing bessel functions...\n",
      "\n",
      "Bessel functions stored.\n"
     ]
    }
   ],
   "source": [
    "# numerical parameters\n",
    "NT = 4000\n",
    "NK = 400\n",
    "NX = 10000\n",
    "L_MAX = 2500\n",
    "xmin = 0.01\n",
    "xmax = 3000\n",
    "a0 = 1.e-6\n",
    "a_rec = 1/1100\n",
    "\n",
    "# arrays\n",
    "A = np.linspace(a0, a_rec, NT)\n",
    "K = np.linspace(.1, 3000, NK)\n",
    "L = np.array([i for i in range(2, 50, 1)]+[i for i in range(50, 200, 5)] +\n",
    "                  [i for i in range(200, L_MAX, 20)])\n",
    "NL = len(L)\n",
    "X = np.linspace(xmin, xmax, NX)\n",
    "JLX, DJLX = spectra.get_bessels(L, X)\n",
    "\n",
    "# physical parameters\n",
    "h = 0.5\n",
    "As = np.exp(3.064)/1.e10 # scalar perturbation amplitude\n",
    "TCMB0 = 2.72548 * 1.e6 # CMB temp (microK)\n",
    "OmegaM0 = 1.0\n",
    "OmegaB0 = 0.05\n",
    "OmegaR0 = 4.2e-5/h**2\n",
    "OmegaN0 = OmegaR0*(1-1/1.68)\n",
    "OmegaG0 = OmegaR0 - OmegaN0\n",
    "OmegaC0 = OmegaM0 - OmegaB0\n",
    "wC = np.zeros(NT)\n",
    "wN = np.ones(NT)*1/3\n",
    "cs2C = np.zeros((NT, NK))\n",
    "cs2N = np.ones((NT, NK))*1/3"
   ]
  },
  {
   "cell_type": "code",
   "execution_count": 3,
   "metadata": {},
   "outputs": [
    {
     "name": "stdout",
     "output_type": "stream",
     "text": [
      "(2000,)\n"
     ]
    },
    {
     "ename": "TypeError",
     "evalue": "too many arguments: expected 11, got 14",
     "output_type": "error",
     "traceback": [
      "\u001b[1;31m---------------------------------------------------------------------------\u001b[0m",
      "\u001b[1;31mTypeError\u001b[0m                                 Traceback (most recent call last)",
      "\u001b[1;32m<ipython-input-3-b4ace349e665>\u001b[0m in \u001b[0;36m<module>\u001b[1;34m\u001b[0m\n\u001b[0;32m     32\u001b[0m \u001b[1;33m\u001b[0m\u001b[0m\n\u001b[0;32m     33\u001b[0m Y2, TAU2 = modes.solve_2fld(A[::2], K, wD, cs2D, deltaD[0], vD[0], OmegaB0,\n\u001b[1;32m---> 34\u001b[1;33m                OmegaC0, OmegaG0, OmegaN0, OmegaD0, As, TCMB0, h)\n\u001b[0m\u001b[0;32m     35\u001b[0m \u001b[1;33m\u001b[0m\u001b[0m\n\u001b[0;32m     36\u001b[0m \u001b[0mplt\u001b[0m\u001b[1;33m.\u001b[0m\u001b[0mplot\u001b[0m\u001b[1;33m(\u001b[0m\u001b[0mA\u001b[0m\u001b[1;33m[\u001b[0m\u001b[1;33m:\u001b[0m\u001b[1;33m:\u001b[0m\u001b[1;36m2\u001b[0m\u001b[1;33m]\u001b[0m\u001b[1;33m,\u001b[0m\u001b[0mY\u001b[0m\u001b[1;33m[\u001b[0m\u001b[1;33m:\u001b[0m\u001b[1;33m,\u001b[0m\u001b[1;36m0\u001b[0m\u001b[1;33m,\u001b[0m\u001b[1;33m:\u001b[0m\u001b[1;33m:\u001b[0m\u001b[1;36m50\u001b[0m\u001b[1;33m]\u001b[0m\u001b[1;33m)\u001b[0m\u001b[1;33m\u001b[0m\u001b[1;33m\u001b[0m\u001b[0m\n",
      "\u001b[1;31mTypeError\u001b[0m: too many arguments: expected 11, got 14"
     ]
    }
   ],
   "source": [
    "\"\"\"Get the fiduciary parameters for the 2-fluid model\"\"\"\n",
    "\n",
    "# solve for perturbation history using 3-fluid model.\n",
    "Y, TAU = modes.solve_3fld(A, K, wC, cs2C, wN, cs2N, OmegaB0, OmegaC0,\n",
    "           OmegaG0, OmegaN0)\n",
    "\n",
    "Phi = Y[:, 0, :].T\n",
    "deltaG = Y[:, 1, :].T\n",
    "vG = Y[:, 2, :].T\n",
    "deltaC =Y[:, 3, :].T\n",
    "vC = Y[:, 4, :].T\n",
    "deltaN = Y[:, 5, :].T\n",
    "vN =Y[:, 6, :].T\n",
    "\n",
    "OmegaB = OmegaB0 * A[::2]**-3\n",
    "OmegaC = OmegaC0 * A[::2]**-3\n",
    "OmegaN = OmegaN0 * A[::2]**-4\n",
    "OmegaG = OmegaG0 * A[::2]**-4\n",
    "OmegaD = OmegaN + OmegaC\n",
    "OmegaD0 = OmegaC0 + OmegaN0\n",
    "\n",
    "# calculate GDM functions\n",
    "wD = OmegaN/(3*OmegaD)\n",
    "deltaD = (OmegaC*deltaC + OmegaN*deltaN)/OmegaD\n",
    "vD = (OmegaC*vC + 4/3*OmegaN*vN)/((1+wD)*OmegaD)\n",
    "cs2D = (deltaN*OmegaN/3)/(deltaD*OmegaD)\n",
    "delta_pD = deltaN\n",
    "\n",
    "deltaD, vD, cs2D = deltaD.T, vD.T, cs2D.T\n",
    "\n",
    "print(np.shape(deltaD.T[0]))\n",
    "\n",
    "Y2, TAU2 = modes.solve_2fld(A[::2], K, wD, cs2D, deltaD[0], vD[0], OmegaB0,\n",
    "               OmegaC0, OmegaG0, OmegaN0, OmegaD0, As, TCMB0, h)\n",
    "\n",
    "plt.plot(A[::2],Y[:,0,::50])\n",
    "plt.plot(A[::4],Y2[:,0,::50],linestyle=':',linewidth=3)\n",
    "plt.show()"
   ]
  },
  {
   "cell_type": "code",
   "execution_count": null,
   "metadata": {},
   "outputs": [],
   "source": []
  },
  {
   "cell_type": "code",
   "execution_count": null,
   "metadata": {},
   "outputs": [],
   "source": []
  }
 ],
 "metadata": {
  "kernelspec": {
   "display_name": "Python 3",
   "language": "python",
   "name": "python3"
  },
  "language_info": {
   "codemirror_mode": {
    "name": "ipython",
    "version": 3
   },
   "file_extension": ".py",
   "mimetype": "text/x-python",
   "name": "python",
   "nbconvert_exporter": "python",
   "pygments_lexer": "ipython3",
   "version": "3.7.4"
  }
 },
 "nbformat": 4,
 "nbformat_minor": 2
}
