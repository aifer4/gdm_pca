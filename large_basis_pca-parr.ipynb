{
 "cells": [
  {
   "cell_type": "markdown",
   "metadata": {},
   "source": [
    "This file contains code to get the sound speed PCs for large basis sizes (>128*128)"
   ]
  },
  {
   "cell_type": "code",
   "execution_count": 2,
   "metadata": {},
   "outputs": [],
   "source": [
    "# external imports\n",
    "import numpy as np\n",
    "from numpy import exp, log, log10, sqrt, zeros, ones, linspace\n",
    "import matplotlib.pyplot as plt\n",
    "import numba\n",
    "import pickle\n",
    "\n",
    "# other project files\n",
    "import modes\n",
    "import spectra\n",
    "import util"
   ]
  },
  {
   "cell_type": "code",
   "execution_count": 3,
   "metadata": {},
   "outputs": [
    {
     "name": "stdout",
     "output_type": "stream",
     "text": [
      "Bessel functions loaded from file.\n"
     ]
    }
   ],
   "source": [
    "# numerical parameters\n",
    "NT = 2**13\n",
    "NK = 2**11\n",
    "NX = 10000\n",
    "L_MAX = 2500\n",
    "xmin = 0.01\n",
    "xmax = 3000\n",
    "a0 = 1.e-6\n",
    "a0_pca = 5.e-5\n",
    "a_rec = 1/1100\n",
    "\n",
    "# arrays\n",
    "A = np.linspace(a0, a_rec, 2*NT)\n",
    "K = np.linspace(.1, 800, NK)\n",
    "L = np.array([i for i in range(2, 50, 1)]+[i for i in range(50, 200, 5)] +\n",
    "                  [i for i in range(200, L_MAX+1, 20)])\n",
    "L_eval = np.arange(2, L_MAX+1)\n",
    "NL = len(L)\n",
    "X = np.linspace(xmin, xmax, NX)\n",
    "JLX, DJLX = spectra.get_bessels(L, X)"
   ]
  },
  {
   "cell_type": "code",
   "execution_count": 4,
   "metadata": {},
   "outputs": [],
   "source": [
    "\"\"\"Helper functions for cs2 PCA\"\"\"\n",
    "\n",
    "@numba.njit\n",
    "def square_basis(theta, NC):\n",
    "    height = NT//NC\n",
    "    width = NK//NC\n",
    "    out = np.zeros((NK, NT))\n",
    "    for i in range(NC**2):\n",
    "        r,c = i//NC, i%NC\n",
    "        out[r*width:(r+1)*width, c*height:(c+1)*height] = theta[i]\n",
    "    out[:,A[::2] < a0_pca]=0\n",
    "    return out.T\n",
    "\n",
    "def get_square(n, val, NC):\n",
    "    height = NT//NC\n",
    "    width = NK//NC\n",
    "    out = np.zeros((NK, NT))\n",
    "    r,c = n//NC, n%NC\n",
    "    out[r*width:(r+1)*width, c*height:(c+1)*height] = val\n",
    "    out[:,A[::2] < a0_pca]=0\n",
    "    return out.T"
   ]
  },
  {
   "cell_type": "code",
   "execution_count": 5,
   "metadata": {},
   "outputs": [],
   "source": [
    "# physical parameters\n",
    "h = 0.6774\n",
    "As = np.exp(3.064)/1.e10 # scalar perturbation amplitude\n",
    "TCMB0 = 2.72548 * 1.e6 # CMB temp (microK)\n",
    "OmegaM0 = 0.3089\n",
    "OmegaB0 = 0.0486\n",
    "OmegaR0 = 4.2e-5/h**2\n",
    "OmegaN0 = OmegaR0*(1-1/1.68)\n",
    "OmegaG0 = OmegaR0 - OmegaN0\n",
    "OmegaC0 = OmegaM0 - OmegaB0\n",
    "wC = np.zeros(2*NT)\n",
    "wN = np.ones(2*NT)*1/3\n",
    "cs2C = np.zeros((2*NT, NK))\n",
    "cs2N = np.ones((2*NT, NK))*1/3\n",
    "params_F = [wC, cs2C, wN, cs2N, OmegaB0, OmegaC0, OmegaG0, OmegaN0, As, TCMB0, h]\n",
    "\n",
    "Cl = spectra.get_Cl_3fld(L, L_eval, X, JLX, DJLX, A, K, *params_F)\n",
    "err = spectra.get_Cl_err(L_eval,Cl)\n",
    "Sigma = np.diag(err**2)\n"
   ]
  },
  {
   "cell_type": "code",
   "execution_count": 6,
   "metadata": {},
   "outputs": [
    {
     "data": {
      "text/plain": [
       "[<matplotlib.lines.Line2D at 0x187fbf6ba48>]"
      ]
     },
     "execution_count": 6,
     "metadata": {},
     "output_type": "execute_result"
    },
    {
     "data": {
      "image/png": "[encoded data removed]",
      "text/plain": [
       "<Figure size 432x288 with 1 Axes>"
      ]
     },
     "metadata": {
      "needs_background": "light"
     },
     "output_type": "display_data"
    }
   ],
   "source": [
    "\"\"\"Get the fiduciary parameters for the 2-fluid model\"\"\"\n",
    "\n",
    "# solve for perturbation history using 3-fluid model.\n",
    "Y, TAU = modes.solve_3fld(A, K, wC, cs2C, wN, cs2N, OmegaB0, OmegaC0,\n",
    "           OmegaG0, OmegaN0)\n",
    "\n",
    "Phi = Y[:, 0, :].T\n",
    "deltaG = Y[:, 1, :].T\n",
    "vG = Y[:, 2, :].T\n",
    "deltaC =Y[:, 3, :].T\n",
    "vC = Y[:, 4, :].T\n",
    "deltaN = Y[:, 5, :].T\n",
    "vN =Y[:, 6, :].T\n",
    "\n",
    "OmegaB = OmegaB0 * A[::2]**-3\n",
    "OmegaC = OmegaC0 * A[::2]**-3\n",
    "OmegaN = OmegaN0 * A[::2]**-4\n",
    "OmegaG = OmegaG0 * A[::2]**-4\n",
    "OmegaD = OmegaN + OmegaC\n",
    "\n",
    "# calculate GDM functions\n",
    "wD = OmegaN/(3*OmegaD)\n",
    "deltaD = (OmegaC*deltaC + OmegaN*deltaN)/OmegaD\n",
    "vD = (OmegaC*vC + 4/3*OmegaN*vN)/((1+wD)*OmegaD)\n",
    "cs2D = (deltaN*OmegaN/3)/(deltaD*OmegaD)\n",
    "delta_pD = deltaN\n",
    "\n",
    "deltaD, vD, cs2D, delta_pD = deltaD.T, vD.T, cs2D.T, delta_pD.T\n",
    "\n",
    "Cl2 = spectra.get_Cl_2fld(L, L_eval, X, JLX, DJLX, A[::2], K, wD, cs2D,\n",
    "                                     deltaD[0], vD[0], OmegaB0, OmegaC0, OmegaG0, OmegaN0,\n",
    "                                     As, TCMB0, h)\n",
    "plt.plot(Cl)\n",
    "plt.plot(Cl2)"
   ]
  },
  {
   "cell_type": "code",
   "execution_count": 8,
   "metadata": {},
   "outputs": [],
   "source": [
    "def CS2_DERIV(q, t, a0):\n",
    "    \"\"\"Take derivatives of Cl w.r.t. sound speed basis coefficients.\n",
    "    \"\"\"\n",
    "    NC = 2**q # number of basis elements\n",
    "    ss = 0.1**t # derivative step size\n",
    "    \n",
    "    # take the central-difference derivatives of Cl w.r.t. cs2 basis coefficients.\n",
    "    J = np.zeros((len(L_eval), NC**2))\n",
    "    print('computing derivatives (t='+str(t)+')')\n",
    "    for n in range(NC**2):\n",
    "        delta_cs2 = get_square(n, ss, NC)\n",
    "        Cl_fwd = spectra.get_Cl_2fld(L, L_eval, X, JLX, DJLX, A[::2], K, wD, cs2D+delta_cs2,\n",
    "                                     deltaD[0], vD[0], OmegaB0, OmegaC0, OmegaG0, OmegaN0,\n",
    "                                     As, TCMB0, h)\n",
    "        Cl_bwd = spectra.get_Cl_2fld(L, L_eval, X, JLX, DJLX, A[::2], K, wD, cs2D-delta_cs2,\n",
    "                                     deltaD[0], vD[0], OmegaB0, OmegaC0, OmegaG0, OmegaN0,\n",
    "                                     As, TCMB0, h)\n",
    "        J[:, n] = (Cl_fwd - Cl_bwd)/(2.*ss)\n",
    "        if(n % 10 == 0):\n",
    "            print(str(n) + ' of ' + str(NC**2))\n",
    "    \n",
    "    # save the derivatives\n",
    "    pickle.dump(J, open(\"output/cs2-only/J_q-\"+str(q)+\"_t-\"+str(t)+\".p\", \"wb\"))\n",
    "    print('\\n','derivatives saved (q='+str(q)+',t='+str(t)+')')"
   ]
  },
  {
   "cell_type": "code",
   "execution_count": 9,
   "metadata": {},
   "outputs": [],
   "source": [
    "@numba.njit\n",
    "def CS2_DERIV2(q, t, a0):\n",
    "    \"\"\"Take derivatives of Cl w.r.t. sound speed basis coefficients.\n",
    "    \"\"\"\n",
    "    NC = 2**q # number of basis elements\n",
    "    ss = 0.1**t # derivative step size\n",
    "    \n",
    "    # take the central-difference derivatives of Cl w.r.t. cs2 basis coefficients.\n",
    "    J = np.zeros((len(L_eval), NC**2))\n",
    "    print('computing derivatives (t='+str(t)+')')\n",
    "    for n in range(NC**2):\n",
    "        delta_cs2 = get_square(n, ss, NC)\n",
    "        Cl_fwd = spectra.get_Cl_2fld(L, L_eval, X, JLX, DJLX, A[::2], K, wD, cs2D+delta_cs2,\n",
    "                                     deltaD[0], vD[0], OmegaB0, OmegaC0, OmegaG0, OmegaN0,\n",
    "                                     As, TCMB0, h)\n",
    "        Cl_bwd = spectra.get_Cl_2fld(L, L_eval, X, JLX, DJLX, A[::2], K, wD, cs2D-delta_cs2,\n",
    "                                     deltaD[0], vD[0], OmegaB0, OmegaC0, OmegaG0, OmegaN0,\n",
    "                                     As, TCMB0, h)\n",
    "        J[:, n] = (Cl_fwd - Cl_bwd)/(2.*ss)\n",
    "        if(n % 10 == 0):\n",
    "            print(str(n) + ' of ' + str(NC**2))\n",
    "    \n",
    "    # save the derivatives\n",
    "    pickle.dump(J, open(\"output/cs2-only/J_q-\"+str(q)+\"_t-\"+str(t)+\".p\", \"wb\"))\n",
    "    print('\\n','derivatives saved (q='+str(q)+',t='+str(t)+')')"
   ]
  },
  {
   "cell_type": "code",
   "execution_count": null,
   "metadata": {
    "scrolled": true
   },
   "outputs": [
    {
     "name": "stdout",
     "output_type": "stream",
     "text": [
      "computing derivatives (t=7)\n",
      "0 of 64\n",
      "10 of 64\n",
      "20 of 64\n",
      "30 of 64\n",
      "40 of 64\n",
      "50 of 64\n",
      "60 of 64\n",
      "\n",
      " derivatives saved (q=3,t=7)\n",
      "computing derivatives (t=7)\n",
      "0 of 64\n",
      "10 of 64\n",
      "20 of 64\n",
      "30 of 64\n",
      "40 of 64\n",
      "50 of 64\n",
      "60 of 64\n",
      "\n",
      " derivatives saved (q=3,t=7)\n",
      "computing derivatives (t=7)\n",
      "0 of 64\n",
      "10 of 64\n",
      "20 of 64\n",
      "30 of 64\n",
      "40 of 64\n",
      "50 of 64\n",
      "60 of 64\n",
      "\n",
      " derivatives saved (q=3,t=7)\n",
      "computing derivatives (t=7)\n",
      "0 of 64\n",
      "10 of 64\n",
      "20 of 64\n",
      "30 of 64\n",
      "40 of 64\n",
      "50 of 64\n",
      "60 of 64\n",
      "\n",
      " derivatives saved (q=3,t=7)\n",
      "computing derivatives (t=7)\n",
      "0 of 64\n",
      "10 of 64\n",
      "20 of 64\n",
      "30 of 64\n",
      "40 of 64\n"
     ]
    }
   ],
   "source": [
    "%timeit CS2_DERIV(q=3,t=7,a0=a0_pca)\n",
    "%timeit CS2_DERIV2(q=3,t=7,a0=a0_pca)\n",
    "#CS2_DERIV(q=9,t=7,a0=a0_pca)"
   ]
  },
  {
   "cell_type": "code",
   "execution_count": null,
   "metadata": {},
   "outputs": [],
   "source": []
  }
 ],
 "metadata": {
  "kernelspec": {
   "display_name": "Python 3",
   "language": "python",
   "name": "python3"
  },
  "language_info": {
   "codemirror_mode": {
    "name": "ipython",
    "version": 3
   },
   "file_extension": ".py",
   "mimetype": "text/x-python",
   "name": "python",
   "nbconvert_exporter": "python",
   "pygments_lexer": "ipython3",
   "version": "3.7.4"
  }
 },
 "nbformat": 4,
 "nbformat_minor": 2
}
